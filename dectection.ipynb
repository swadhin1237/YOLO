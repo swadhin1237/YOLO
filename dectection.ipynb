{
 "cells": [
  {
   "cell_type": "code",
   "execution_count": 1,
   "metadata": {},
   "outputs": [
    {
     "name": "stderr",
     "output_type": "stream",
     "text": [
      "c:\\Users\\ASUS\\AppData\\Local\\Programs\\Python\\Python310\\lib\\site-packages\\tqdm\\auto.py:22: TqdmWarning: IProgress not found. Please update jupyter and ipywidgets. See https://ipywidgets.readthedocs.io/en/stable/user_install.html\n",
      "  from .autonotebook import tqdm as notebook_tqdm\n"
     ]
    }
   ],
   "source": [
    "import torch"
   ]
  },
  {
   "cell_type": "code",
   "execution_count": 2,
   "metadata": {},
   "outputs": [
    {
     "name": "stderr",
     "output_type": "stream",
     "text": [
      "Using cache found in C:\\Users\\ASUS/.cache\\torch\\hub\\ultralytics_yolov5_master\n",
      "YOLOv5  2023-1-9 Python-3.10.9 torch-1.13.1+cpu CPU\n",
      "\n",
      "Fusing layers... \n",
      "YOLOv5n summary: 213 layers, 1867405 parameters, 0 gradients\n",
      "Adding AutoShape... \n"
     ]
    }
   ],
   "source": [
    "model=torch.hub.load(\"ultralytics/yolov5\",\"yolov5n\")"
   ]
  },
  {
   "cell_type": "code",
   "execution_count": 3,
   "metadata": {},
   "outputs": [],
   "source": [
    "import cv2"
   ]
  },
  {
   "cell_type": "code",
   "execution_count": 6,
   "metadata": {},
   "outputs": [],
   "source": [
    "cap = cv2.VideoCapture('video/3150203816.mp4')\n",
    "\n",
    "while True:\n",
    "    img = cap.read()[1]\n",
    "    if img is None:\n",
    "        break\n",
    "    img = cv2.resize(img, (1000,600))\n",
    "    result = model(img)\n",
    "    df = result.pandas().xyxy[0]\n",
    "\n",
    "    for ind in df.index:\n",
    "        x1, y1 = int(df['xmin'][ind]), int(df['ymin'][ind])\n",
    "        x2, y2 = int(df['xmax'][ind]), int(df['ymax'][ind])\n",
    "        label = df['name'][ind]\n",
    "        conf = df['confidence'][ind]\n",
    "\n",
    "        text = label #+ ' ' + str(conf.round(decimals= 2))\n",
    "        cv2.rectangle(img, (x1, y1), (x2, y2), (255, 255, 0), 2)\n",
    "        cv2.putText(img, text, (x1, y1 - 5), cv2.FONT_HERSHEY_PLAIN, 2, (0, 0, 0), 2)\n",
    "    if(cv2.waitKey(30) & 0xff==ord('q')):\n",
    "        break\n",
    "\n",
    "    cv2.imshow('Video',cv2.resize(img, (1000,600)))\n",
    "    cv2.waitKey(1)\n",
    "cv2.destroyAllWindows()"
   ]
  },
  {
   "cell_type": "code",
   "execution_count": null,
   "metadata": {},
   "outputs": [],
   "source": []
  }
 ],
 "metadata": {
  "kernelspec": {
   "display_name": "Python 3",
   "language": "python",
   "name": "python3"
  },
  "language_info": {
   "codemirror_mode": {
    "name": "ipython",
    "version": 3
   },
   "file_extension": ".py",
   "mimetype": "text/x-python",
   "name": "python",
   "nbconvert_exporter": "python",
   "pygments_lexer": "ipython3",
   "version": "3.10.9 (tags/v3.10.9:1dd9be6, Dec  6 2022, 20:01:21) [MSC v.1934 64 bit (AMD64)]"
  },
  "orig_nbformat": 4,
  "vscode": {
   "interpreter": {
    "hash": "27f6fea6f47ae512550f0b8facdbd035a93e1dd89633f7bf2dd00a2502c71d0d"
   }
  }
 },
 "nbformat": 4,
 "nbformat_minor": 2
}
